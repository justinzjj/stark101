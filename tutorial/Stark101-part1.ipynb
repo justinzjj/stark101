{
 "cells": [
  {
   "cell_type": "markdown",
   "metadata": {},
   "source": [
    "*Copyright 2019 StarkWare Industries Ltd.<br> Licensed under the Apache License, Version 2.0 (the \"License\"). You may not use this file except in compliance with the License. You may obtain a copy of the License at https://www.starkware.co/open-source-license/ <br> Unless required by applicable law or agreed to in writing, software distributed under the License is distributed on an \"AS IS\" BASIS, WITHOUT WARRANTIES OR CONDITIONS OF ANY KIND, either express or implied. See the License for the specific language governing permissions and limitations under the License.*"
   ]
  },
  {
   "cell_type": "markdown",
   "metadata": {
    "tags": []
   },
   "source": [
    "# Part 1: Trace and Low-Degree Extension\n",
    "\n",
    "- [Video Lecture (youtube)](https://www.youtube.com/watch?v=Y0uJz9VL3Fo)\n",
    "- [Slides (PDF)](https://starkware.co/wp-content/uploads/2021/12/STARK101-Part1.pdf)\n",
    "\n",
    "Today we will develop a STARK prover for the FibonacciSq sequence over a finite field.\n",
    "The FibonacciSq sequence is defined by the recurrence relation $a_{n+2} = a_{n+1} ^2 + a_n ^2$.\n",
    "<br>By the end of the day, your code will produce a *STARK* proof attesting to the following statement: <br>**I know a field element $X\\in \\mathbb{F}$ such that the 1023rd element of the FibonacciSq sequence starting with $1, X$ is $2338775057$**.\n",
    "<br><br>\n",
    "## The Basics\n",
    "### FieldElement class\n",
    "We use our `FieldElement` class to represent field elements.<br> You can construct instances of `FieldElement` from integers, and then add, multiply, divide, get inverse, and so on.\n",
    "The underlying field of this class is $\\mathbb{F}_{3221225473}$ ($3221225473 = 3 \\cdot 2^{30} + 1$), so all operations are done modulo 3221225473.\n",
    "<br><br>\n",
    "Try it by running the following cell (shift + enter):"
   ]
  },
  {
   "cell_type": "markdown",
   "metadata": {},
   "source": [
    "\n",
    "FieldElement的作用在于 将数字转换为 有限域中的元素 "
   ]
  },
  {
   "cell_type": "code",
   "execution_count": 27,
   "metadata": {
    "scrolled": true
   },
   "outputs": [
    {
     "data": {
      "text/plain": [
       "10"
      ]
     },
     "execution_count": 27,
     "metadata": {},
     "output_type": "execute_result"
    }
   ],
   "source": [
    "from field import FieldElement\n",
    "FieldElement(3221225472) + FieldElement(10)\n",
    "\n"
   ]
  },
  {
   "cell_type": "markdown",
   "metadata": {},
   "source": [
    "## FibonacciSq Trace\n",
    "\n",
    "To start, let's construct a list `a` of length 1023, whose first two elements will be FieldElement objects representing 1 and 3141592, respectively. The next 1021 elements will be the FibonacciSq sequence induced by these two elements. `a` is called the trace of FibonacciSq, or, when the context is clear, the trace. <br>\n",
    "Correct the code below to fill `a`:"
   ]
  },
  {
   "cell_type": "code",
   "execution_count": 30,
   "metadata": {},
   "outputs": [],
   "source": [
    "a = [FieldElement(1), FieldElement(3141592)]\n",
    "'YOUR_CODE_HERE'\n",
    "\n",
    "while len(a) < 1023:\n",
    "    tmp=a[-1]*a[-1] + a[-2]*a[-2]\n",
    "    a.append(tmp)"
   ]
  },
  {
   "cell_type": "markdown",
   "metadata": {},
   "source": [
    "Solution (click to the ... to unhide):"
   ]
  },
  {
   "cell_type": "code",
   "execution_count": 3,
   "metadata": {
    "jupyter": {
     "source_hidden": true
    }
   },
   "outputs": [],
   "source": [
    "a = [FieldElement(1), FieldElement(3141592)]\n",
    "while len(a) < 1023:\n",
    "    a.append(a[-2] * a[-2] + a[-1] * a[-1])"
   ]
  },
  {
   "cell_type": "markdown",
   "metadata": {},
   "source": [
    "### Test Your Code\n",
    "Run the next cell to test that you have filled `a` correctly.<br> Note that this is in fact a verifier, albeit very naive and non-succinct one, as it goes over the sequence, element by element, making sure it is correct."
   ]
  },
  {
   "cell_type": "code",
   "execution_count": 31,
   "metadata": {},
   "outputs": [
    {
     "name": "stdout",
     "output_type": "stream",
     "text": [
      "Success!\n"
     ]
    }
   ],
   "source": [
    "assert len(a) == 1023, 'The trace must consist of exactly 1023 elements.'\n",
    "assert a[0] == FieldElement(1), 'The first element in the trace must be the unit element.'\n",
    "for i in range(2, 1023):\n",
    "    assert a[i] == a[i - 1] * a[i - 1] + a[i - 2] * a[i - 2], f'The FibonacciSq recursion rule does not apply for index {i}'\n",
    "assert a[1022] == FieldElement(2338775057), 'Wrong last element!'\n",
    "print('Success!')"
   ]
  },
  {
   "cell_type": "markdown",
   "metadata": {},
   "source": [
    "## Thinking of Polynomials\n",
    "We now want to think of the sequence as the evaluation of some, yet unknown, polynomial $f$ of degree 1022 (due to the Unisolvence Theorem).\n",
    "We will choose the domain to be some subgroup $G \\subseteq \\mathbb{F}^\\times$ of size 1024, for reasons that will become clear later.\n",
    "\n",
    "(Recall that $\\mathbb{F}^\\times$ denotes the multiplicative group of $\\mathbb{F}$, which we get from $\\mathbb{F}$ by omitting the zero element with the induced multiplication from the field. A subgroup of size 1024 exists because $\\mathbb{F}^\\times$ is a cyclic group of size $3\\cdot 2^{30}$, so it contains a subgroup of size $2^i$ for any $0 \\leq i \\leq 30$).\n",
    "### Find a Group of Size 1024\n",
    "If we find an element $g \\in \\mathbb{F}$ whose (multiplicative) order is 1024, then $g$ will generate such a group.\n",
    "The class `FieldElement` provides a static method `generator()` which returns an element that generates $\\mathbb{F}^\\times$ (whose order is $|\\mathbb{F}^\\times|$).\n",
    "1. Use it to obtain a generator $g$ for $G$.\n",
    "2. Create a list called `G` with all the elements of $G$, such that $G[i] := g^i$.\n",
    "\n",
    "*Hint: When $k$ divides $|\\mathbb{F}^\\times|$, $g^k$ generates a group of size $\\frac {|\\mathbb{F}^\\times|}{k}$, and the n-th power of some `FieldElement` $x$ can be computed by calling `x ** n `.*\n",
    "\n"
   ]
  },
  {
   "cell_type": "markdown",
   "metadata": {},
   "source": [
    "这里我们希望最终群的大小是1024\n",
    "\n",
    "根据上面的提示  $\\mathbb{F}^\\times$ 的大小是$3\\cdot 2^{30}$\n",
    "\n",
    "$g^k$ 生成的群的大小是 $\\frac {|\\mathbb{F}^\\times|}{k}$\n",
    "\n",
    "所以 我们希望$1024=\\frac {|\\mathbb{F}^\\times|}{k}=\\frac{3\\cdot 2^{30}}{k}$\n",
    "\n",
    "所以 $k=\\frac{3\\cdot 2^{30}}{1024}$\n"
   ]
  },
  {
   "cell_type": "code",
   "execution_count": 53,
   "metadata": {},
   "outputs": [
    {
     "name": "stdout",
     "output_type": "stream",
     "text": [
      "-1365964089\n"
     ]
    }
   ],
   "source": [
    "# Change the following line so that g will generate a group of size 1024\n",
    "g = FieldElement.generator()** (3 * 2 ** 30/1024)\n",
    "# Fill G with the elements of G such that G[i] := g ** i\n",
    "G = [] \n",
    "for i in range(1024):\n",
    "    G.append(g**i)"
   ]
  },
  {
   "cell_type": "markdown",
   "metadata": {},
   "source": [
    "Solution:"
   ]
  },
  {
   "cell_type": "code",
   "execution_count": 40,
   "metadata": {
    "jupyter": {
     "source_hidden": true
    }
   },
   "outputs": [],
   "source": [
    "g = FieldElement.generator() ** (3 * 2 ** 20)\n",
    "G = [g ** i for i in range(1024)]"
   ]
  },
  {
   "cell_type": "markdown",
   "metadata": {},
   "source": [
    "Run the next cell to test your code. "
   ]
  },
  {
   "cell_type": "code",
   "execution_count": 54,
   "metadata": {},
   "outputs": [
    {
     "name": "stdout",
     "output_type": "stream",
     "text": [
      "Success!\n"
     ]
    }
   ],
   "source": [
    "# Checks that g and G are correct.\n",
    "# 检查阶是否为1024\n",
    "assert g.is_order(1024), 'The generator g is of wrong order.'\n",
    "b = FieldElement(1)\n",
    "for i in range(1023):\n",
    "    assert b == G[i], 'The i-th place in G is not equal to the i-th power of g.'\n",
    "    b = b * g\n",
    "    assert b != FieldElement(1), f'g is of order {i + 1}'\n",
    "    \n",
    "if b * g == FieldElement(1):\n",
    "    print('Success!')\n",
    "else:\n",
    "    print('g is of order > 1024')"
   ]
  },
  {
   "cell_type": "markdown",
   "metadata": {},
   "source": [
    "### Polynomial class\n",
    "We provide you with a class called `Polynomial`. The simplest way to construct a `Polynomial` is by using the variable `X` (note that it's a capital `X`) which represents the formal variable $x$:"
   ]
  },
  {
   "cell_type": "code",
   "execution_count": 55,
   "metadata": {},
   "outputs": [
    {
     "name": "stdout",
     "output_type": "stream",
     "text": [
      "9\n"
     ]
    },
    {
     "data": {
      "text/latex": [
       "$ 1 + 2x^{2} $"
      ],
      "text/plain": [
       "<polynomial.Polynomial at 0x1073584c0>"
      ]
     },
     "execution_count": 55,
     "metadata": {},
     "output_type": "execute_result"
    }
   ],
   "source": [
    "'''\n",
    "Author: Justin\n",
    "Date: 2024-08-13 13:53:05\n",
    "fielname: \n",
    "version: \n",
    "Description: \n",
    "LastEditTime: 2024-08-14 08:59:05\n",
    "'''\n",
    "from polynomial import X\n",
    "# The polynomial 2x^2 + 1.\n",
    "p = 2*X**2 + 1\n",
    "# Evaluate p at 2:\n",
    "print(p(2))\n",
    "# Type a polynomial's name, on its own, in the last line of a cell to display it\n",
    "p"
   ]
  },
  {
   "cell_type": "markdown",
   "metadata": {},
   "source": [
    "### Interpolating a Polynomial\n",
    "Our `polynomial` module provides a Lagrange interpolation function, whose arguments are:\n",
    "* x_values: x-values of G that the polynomial's values for them is known. [List]\n",
    "* y_values: the corresponding y-values. [List]\n",
    "\n",
    "It returns the unique `Polynomial` of degree < `len(x_values)` instance that evaluates to `y_values[i]` on `x_values[i]` for all i."
   ]
  },
  {
   "cell_type": "markdown",
   "metadata": {},
   "source": [
    "Run the following cell to get help on the function `interpolate_poly`."
   ]
  },
  {
   "cell_type": "code",
   "execution_count": 22,
   "metadata": {},
   "outputs": [
    {
     "data": {
      "text/plain": [
       "<function polynomial.interpolate_poly(x_values, y_values)>"
      ]
     },
     "execution_count": 22,
     "metadata": {},
     "output_type": "execute_result"
    }
   ],
   "source": [
    "from polynomial import interpolate_poly\n",
    "interpolate_poly"
   ]
  },
  {
   "cell_type": "markdown",
   "metadata": {},
   "source": [
    "Suppose that `a` contains the values of some polynomial over `G` (except for `G[-1]`, since `a` is one element shorter).\n",
    "Use `interpolate_poly()` to get `f` and get its value at `FieldElement(2)`. "
   ]
  },
  {
   "cell_type": "code",
   "execution_count": 58,
   "metadata": {},
   "outputs": [
    {
     "name": "stderr",
     "output_type": "stream",
     "text": [
      "100%|██████████| 1023/1023 [00:05<00:00, 171.53it/s]\n"
     ]
    },
    {
     "data": {
      "text/latex": [
       "$ -502323966 + 324457201x - 1311704993x^{2} + 490273045x^{3} + 1312214659x^{4} - 1168669142x^{5} - 811687406x^{6} + 833738775x^{7} + 1401589658x^{8} - 1006481853x^{9} - 699319498x^{10} + 303207458x^{11} - 1410423438x^{12} + 1495277389x^{13} + 322688855x^{14} - 1443221426x^{15} - 626151456x^{16} + 277594728x^{17} + 431564296x^{18} - 977009644x^{19} + 976804842x^{20} + 1431944x^{21} - 795732681x^{22} - 560761200x^{23} + 197991059x^{24} - 1347724621x^{25} + 191770867x^{26} - 709063967x^{27} + 460775583x^{28} - 1160642196x^{29} - 1030927801x^{30} - 40706142x^{31} + 1275188540x^{32} + 378381996x^{33} + 911380974x^{34} + 589208906x^{35} - 45448808x^{36} + 1050257479x^{37} - 990192534x^{38} - 26987738x^{39} - 203262384x^{40} - 1041643263x^{41} - 185859741x^{42} + 1004144493x^{43} + 938607722x^{44} - 1245635219x^{45} - 1131703304x^{46} - 535268987x^{47} - 1500077138x^{48} - 361966780x^{49} - 1499859476x^{50} + 918437967x^{51} - 131152614x^{52} - 420122059x^{53} - 519150592x^{54} + 258529940x^{55} - 1025323443x^{56} + 532864059x^{57} + 1600304898x^{58} - 1573205795x^{59} + 300087122x^{60} - 1600818286x^{61} + 34182915x^{62} - 1466289120x^{63} - 794838528x^{64} + 1243642511x^{65} - 860213551x^{66} + 828949541x^{67} + 556100187x^{68} - 379810396x^{69} - 845732898x^{70} + 1320572752x^{71} - 386006247x^{72} + 1342945770x^{73} + 952101888x^{74} + 499818981x^{75} - 671925051x^{76} + 1015674509x^{77} - 799996522x^{78} - 1581151405x^{79} + 146797660x^{80} - 696491212x^{81} - 194636581x^{82} + 1072782011x^{83} + 591724270x^{84} + 838931396x^{85} + 1256074340x^{86} + 1441667990x^{87} - 500868086x^{88} + 1437888560x^{89} + 1296374746x^{90} + 556376745x^{91} + 1113888145x^{92} - 1499501646x^{93} - 1282653685x^{94} + 766170859x^{95} - 1172597573x^{96} - 1168583366x^{97} + 579061426x^{98} + 618266366x^{99} + 1299958656x^{100} + 688200234x^{101} - 295832381x^{102} - 1143473424x^{103} - 241602770x^{104} - 1490135960x^{105} + 913519645x^{106} - 5853968x^{107} + 400428214x^{108} + 1338869962x^{109} + 99047117x^{110} - 927557684x^{111} + 557029157x^{112} + 958875457x^{113} - 1107972729x^{114} + 751582126x^{115} + 831775195x^{116} + 154219934x^{117} - 975962070x^{118} + 1518074014x^{119} - 679999977x^{120} + 397063821x^{121} - 628940004x^{122} + 470449757x^{123} + 487313609x^{124} - 428519597x^{125} - 1359447657x^{126} - 225250218x^{127} - 384021124x^{128} + 528733527x^{129} - 1265502935x^{130} + 1117923160x^{131} + 1034853282x^{132} - 206746584x^{133} - 1133178255x^{134} - 1523770501x^{135} - 628282892x^{136} - 1041730804x^{137} + 182260790x^{138} - 1438703008x^{139} + 123534811x^{140} - 1589285419x^{141} - 745818525x^{142} - 1527810788x^{143} + 1589016621x^{144} - 502459659x^{145} + 1226588107x^{146} + 571947498x^{147} + 364492049x^{148} + 824939276x^{149} - 490061004x^{150} + 50273415x^{151} - 1582612574x^{152} + 160320071x^{153} + 150468624x^{154} + 1166681116x^{155} + 184935291x^{156} - 829683036x^{157} - 1186345543x^{158} + 645489528x^{159} - 128712054x^{160} - 306835951x^{161} + 117260276x^{162} - 968423504x^{163} + 172533412x^{164} - 1514802080x^{165} + 358373357x^{166} - 1442172975x^{167} + 756005027x^{168} - 1009051993x^{169} + 374638244x^{170} + 1554426998x^{171} + 130615630x^{172} + 508378077x^{173} + 1144412800x^{174} + 395227802x^{175} - 1574251455x^{176} - 170593823x^{177} + 897727878x^{178} - 886137792x^{179} - 1567423927x^{180} + 656578420x^{181} - 1073046512x^{182} + 375731485x^{183} + 493285350x^{184} - 1605501450x^{185} - 1097134926x^{186} - 717944578x^{187} - 1498408150x^{188} - 1396994596x^{189} + 97884125x^{190} - 256664405x^{191} + 742415550x^{192} - 1091553893x^{193} - 893766739x^{194} + 1207164932x^{195} + 1331232419x^{196} + 903802700x^{197} - 30114720x^{198} - 978074006x^{199} + 1478764249x^{200} + 643787753x^{201} + 78865788x^{202} - 352473709x^{203} - 951086795x^{204} - 1141147263x^{205} + 1061042366x^{206} - 1257530245x^{207} - 511759159x^{208} + 249516349x^{209} - 135598980x^{210} - 653891538x^{211} - 107910655x^{212} - 114050046x^{213} - 700408334x^{214} - 1417487357x^{215} + 612269405x^{216} + 1170690152x^{217} - 1514965376x^{218} + 135626526x^{219} + 807144224x^{220} - 365763470x^{221} - 1347333579x^{222} - 694116631x^{223} + 38861929x^{224} + 1292091241x^{225} - 1022225283x^{226} + 497627168x^{227} + 1214677475x^{228} + 1264880807x^{229} - 720505775x^{230} + 1393522595x^{231} - 596745355x^{232} - 653211964x^{233} - 1322985360x^{234} + 1600442736x^{235} - 1498119954x^{236} - 78024653x^{237} - 1183463101x^{238} - 792329176x^{239} + 320589814x^{240} - 1419524362x^{241} - 231523313x^{242} + 529771169x^{243} + 1044382613x^{244} + 976962593x^{245} - 414210119x^{246} - 213876759x^{247} + 924227828x^{248} - 1407404958x^{249} + 48146535x^{250} - 70446296x^{251} + 242763921x^{252} - 709783264x^{253} - 802912133x^{254} + 864111293x^{255} - 719355254x^{256} - 1417561211x^{257} - 678316724x^{258} + 1499549763x^{259} + 942108394x^{260} + 50667708x^{261} + 835862430x^{262} + 142916256x^{263} + 1345336858x^{264} - 1073459240x^{265} - 912976071x^{266} - 1024475918x^{267} + 1330527420x^{268} - 951652908x^{269} - 1535047611x^{270} - 1130792621x^{271} + 100699091x^{272} + 522623295x^{273} + 510866626x^{274} - 490876511x^{275} + 66027808x^{276} + 170973107x^{277} + 309805598x^{278} - 348251030x^{279} - 594405517x^{280} - 1114802134x^{281} + 260910966x^{282} + 852587717x^{283} + 472265015x^{284} + 544469175x^{285} - 462793236x^{286} - 1204343270x^{287} + 218481251x^{288} + 331539791x^{289} - 494600687x^{290} - 1272949846x^{291} + 434478523x^{292} + 1139923625x^{293} + 868375775x^{294} - 1084200370x^{295} - 1252780589x^{296} - 255090506x^{297} - 756576338x^{298} - 589853179x^{299} + 928487821x^{300} - 1528285929x^{301} - 714698650x^{302} + 715672209x^{303} + 39750044x^{304} + 763635260x^{305} - 869194107x^{306} - 169898966x^{307} + 1017706601x^{308} + 1495994237x^{309} - 1387213958x^{310} - 3392937x^{311} + 1426875338x^{312} - 981403972x^{313} + 622948313x^{314} - 849409461x^{315} - 625188405x^{316} - 157260040x^{317} - 1535578696x^{318} + 1202807077x^{319} - 454401180x^{320} - 681608098x^{321} - 26923595x^{322} + 944233698x^{323} - 59106124x^{324} - 231817114x^{325} - 1544537449x^{326} - 683058357x^{327} + 1596383662x^{328} + 931596430x^{329} + 611005488x^{330} + 1118312887x^{331} - 240470145x^{332} + 307791593x^{333} + 180449040x^{334} - 151937667x^{335} - 751051623x^{336} + 409726160x^{337} - 315620606x^{338} + 1303803669x^{339} - 1529047744x^{340} + 1116915745x^{341} + 1189385487x^{342} + 534754197x^{343} - 53544536x^{344} + 989396523x^{345} + 49112362x^{346} + 589579337x^{347} + 686501124x^{348} - 1240766930x^{349} + 1177731034x^{350} - 796245640x^{351} + 881161352x^{352} - 498232247x^{353} + 355058519x^{354} - 337769451x^{355} + 826684400x^{356} - 53085357x^{357} - 372372574x^{358} + 592671230x^{359} + 562331081x^{360} + 75786438x^{361} + 1081655502x^{362} + 1081980598x^{363} + 999518276x^{364} + 732652696x^{365} - 1380530051x^{366} + 499827755x^{367} + 1293832504x^{368} - 679289533x^{369} + 255582344x^{370} + 1331029949x^{371} + 1198142380x^{372} + 811500726x^{373} + 247056384x^{374} - 417161187x^{375} + 1282212880x^{376} + 65492378x^{377} + 1123654965x^{378} - 1054925381x^{379} + 509607639x^{380} - 285818467x^{381} + 1384646851x^{382} - 636901346x^{383} - 221176633x^{384} - 715001510x^{385} - 1488338277x^{386} - 1538577043x^{387} - 1470461686x^{388} + 1101225711x^{389} - 1409650979x^{390} + 420072220x^{391} + 496445003x^{392} + 623101498x^{393} - 1497296304x^{394} - 167394023x^{395} - 1522296914x^{396} + 812974443x^{397} - 633028374x^{398} - 266469636x^{399} - 985444197x^{400} + 441895441x^{401} + 816887806x^{402} + 1143025281x^{403} + 1413675886x^{404} - 1112636253x^{405} + 1485551233x^{406} - 390015710x^{407} - 423912518x^{408} - 430862406x^{409} + 614461451x^{410} + 749304405x^{411} + 57412831x^{412} + 755038428x^{413} - 480148380x^{414} - 1050575331x^{415} + 1322836188x^{416} + 513703708x^{417} + 1555383826x^{418} - 333899271x^{419} + 1336698653x^{420} + 831072563x^{421} - 926441030x^{422} + 1456970002x^{423} + 929126682x^{424} + 1002913396x^{425} + 1262190501x^{426} - 979922985x^{427} - 1525845914x^{428} + 260371966x^{429} + 1090576070x^{430} + 78630504x^{431} - 1605789659x^{432} + 620307652x^{433} + 1508638987x^{434} + 977015910x^{435} + 264948128x^{436} - 1225523579x^{437} - 823161528x^{438} - 1466560562x^{439} + 660615589x^{440} - 1468559291x^{441} - 156286606x^{442} + 1390146616x^{443} + 213805557x^{444} - 1553761384x^{445} - 322656336x^{446} + 983117429x^{447} + 470175196x^{448} + 1549915019x^{449} - 761973223x^{450} - 36129129x^{451} + 954197730x^{452} - 1263301973x^{453} + 957728285x^{454} + 692395422x^{455} - 699888153x^{456} - 16235863x^{457} - 689399835x^{458} + 681983493x^{459} + 1324714858x^{460} - 33948906x^{461} + 1032457504x^{462} - 496373817x^{463} - 1279426639x^{464} + 1216850914x^{465} + 1447524529x^{466} + 482962207x^{467} + 1042337519x^{468} - 1089952240x^{469} - 1391692199x^{470} + 1059778046x^{471} + 1066774936x^{472} + 811676510x^{473} - 301858537x^{474} + 662718495x^{475} - 1070501797x^{476} - 1142833710x^{477} + 1587896236x^{478} - 1601856070x^{479} - 662136945x^{480} - 496537553x^{481} + 1020428411x^{482} - 1598279904x^{483} - 549640977x^{484} + 780948365x^{485} - 464297768x^{486} + 822234371x^{487} + 1514678804x^{488} + 1072254576x^{489} - 1248684785x^{490} - 237784476x^{491} + 11842201x^{492} - 1423738211x^{493} - 1099435081x^{494} - 1517819229x^{495} + 728200006x^{496} + 1589921653x^{497} - 1543967602x^{498} - 415312050x^{499} + 1039172500x^{500} + 114648495x^{501} - 128347672x^{502} - 267717906x^{503} + 65741330x^{504} - 981835189x^{505} - 89391734x^{506} - 321124043x^{507} - 1326885163x^{508} - 289664678x^{509} - 535156983x^{510} + 440995003x^{511} + 1258547104x^{512} + 1409944537x^{513} + 62539169x^{514} + 371435072x^{515} + 609770742x^{516} - 1598255031x^{517} - 201002344x^{518} + 825019124x^{519} - 1563466560x^{520} - 1008878574x^{521} + 315257852x^{522} - 556537281x^{523} + 1175072713x^{524} - 485168987x^{525} - 113995671x^{526} - 509478245x^{527} - 235703006x^{528} + 761693034x^{529} - 1189981989x^{530} + 1565823445x^{531} - 1402346489x^{532} + 1273715730x^{533} + 262786576x^{534} - 265028987x^{535} + 1381215744x^{536} + 815293809x^{537} + 1300067706x^{538} - 47714689x^{539} - 1124546941x^{540} - 224658606x^{541} - 1229927769x^{542} - 1036666533x^{543} - 416828551x^{544} + 864983311x^{545} + 872002972x^{546} - 266738293x^{547} - 171799437x^{548} - 169150477x^{549} + 678225041x^{550} + 832483154x^{551} - 847202872x^{552} + 247078866x^{553} + 869362950x^{554} + 376392094x^{555} - 361014665x^{556} - 509940508x^{557} - 446180724x^{558} - 166244933x^{559} + 1525165945x^{560} - 1199393581x^{561} - 1588066810x^{562} - 953909861x^{563} + 251107793x^{564} + 1493557727x^{565} + 1190540107x^{566} - 481328348x^{567} - 663546104x^{568} - 947003853x^{569} - 297560668x^{570} - 31355540x^{571} - 768357519x^{572} - 361067298x^{573} + 356967772x^{574} - 1214793193x^{575} - 862122012x^{576} + 748737842x^{577} - 588506956x^{578} - 1591340767x^{579} - 2301037x^{580} - 1256562664x^{581} + 1459159749x^{582} + 1052583610x^{583} - 1256614089x^{584} + 487585479x^{585} + 760245259x^{586} - 1239190414x^{587} - 1485730004x^{588} - 1215918931x^{589} - 582111144x^{590} + 290289134x^{591} - 75684085x^{592} + 1306179921x^{593} - 103122589x^{594} - 156043296x^{595} + 1267929266x^{596} + 1166295988x^{597} + 493825897x^{598} - 355232986x^{599} - 595652630x^{600} + 1213446812x^{601} - 890787063x^{602} - 1003640656x^{603} - 785289063x^{604} + 477620424x^{605} + 1551613360x^{606} + 1181520840x^{607} + 524758410x^{608} + 279133563x^{609} - 339991905x^{610} - 1302909114x^{611} + 347921116x^{612} - 1004109385x^{613} - 697727252x^{614} - 473331356x^{615} + 1173247951x^{616} + 773799447x^{617} + 1363276843x^{618} - 1430126342x^{619} - 737871553x^{620} + 205805547x^{621} - 914969734x^{622} - 996971246x^{623} - 1163060201x^{624} + 975084563x^{625} - 421707286x^{626} + 577603966x^{627} - 1573344209x^{628} + 54554006x^{629} - 363402721x^{630} - 1258464734x^{631} + 466937591x^{632} - 479029656x^{633} + 1041359839x^{634} - 906959119x^{635} - 1523527595x^{636} - 1104040489x^{637} - 1348664159x^{638} + 930158251x^{639} + 147190116x^{640} + 1467260128x^{641} - 477055065x^{642} - 293015953x^{643} + 230102119x^{644} + 659625200x^{645} + 397722861x^{646} + 1349473096x^{647} + 1253748229x^{648} + 41758302x^{649} + 137725564x^{650} + 264328672x^{651} + 977862145x^{652} + 661915046x^{653} + 707900826x^{654} - 1108145542x^{655} - 803415906x^{656} + 1411809803x^{657} - 330838995x^{658} - 1385628310x^{659} + 199352840x^{660} + 1120322610x^{661} - 671730574x^{662} - 767818989x^{663} - 1336603319x^{664} + 356809676x^{665} - 851744901x^{666} + 837526976x^{667} - 428619056x^{668} + 536250863x^{669} + 537327588x^{670} - 674673476x^{671} - 199106571x^{672} + 197250298x^{673} + 1036922208x^{674} - 281166333x^{675} + 158902345x^{676} + 766632097x^{677} - 437287054x^{678} - 277722779x^{679} + 707571323x^{680} + 611598959x^{681} + 1033488907x^{682} + 127076966x^{683} + 1093939533x^{684} - 1156258750x^{685} - 111862963x^{686} - 1093869126x^{687} - 446851266x^{688} + 1279380531x^{689} - 897417960x^{690} - 490498591x^{691} + 495019105x^{692} + 806513345x^{693} - 260544913x^{694} - 534505291x^{695} - 317286214x^{696} - 832301923x^{697} - 11440856x^{698} - 743717684x^{699} - 1175559940x^{700} + 941607767x^{701} + 947679794x^{702} + 1527933271x^{703} - 1064756224x^{704} + 597144904x^{705} - 844850380x^{706} - 173675406x^{707} + 222590362x^{708} + 8209440x^{709} + 1549176538x^{710} + 1288103768x^{711} + 1101298002x^{712} - 723315558x^{713} - 768645687x^{714} - 589043336x^{715} + 653504342x^{716} - 1130242917x^{717} + 90467415x^{718} + 1282574015x^{719} + 684954221x^{720} + 1595078093x^{721} - 491229401x^{722} + 1584641077x^{723} + 222941861x^{724} - 1219920961x^{725} - 428252228x^{726} - 1285644825x^{727} - 1320292491x^{728} - 974902823x^{729} + 860529972x^{730} + 989352489x^{731} - 308449784x^{732} - 1425937602x^{733} - 453172105x^{734} + 474670607x^{735} - 1309913232x^{736} + 1601515766x^{737} + 1014590955x^{738} - 251243050x^{739} + 798430091x^{740} - 406660475x^{741} - 341344436x^{742} + 122032525x^{743} + 216336727x^{744} + 1321085501x^{745} + 1038598999x^{746} - 525198480x^{747} - 608130069x^{748} - 324882082x^{749} + 520932180x^{750} + 1487976792x^{751} - 1027703608x^{752} - 46389439x^{753} + 82411146x^{754} - 395834169x^{755} - 811751036x^{756} + 207796381x^{757} - 673763701x^{758} + 1085185743x^{759} + 1296184039x^{760} - 1116055230x^{761} - 1518209600x^{762} - 709710606x^{763} + 760271132x^{764} - 432608481x^{765} - 524036614x^{766} - 1290637046x^{767} - 39668227x^{768} + 890040346x^{769} - 1253934851x^{770} + 978053679x^{771} - 829011726x^{772} - 151329209x^{773} - 729769974x^{774} + 117154825x^{775} + 420332479x^{776} + 943868620x^{777} - 874060513x^{778} - 904446733x^{779} - 498163512x^{780} + 1362935543x^{781} - 448149013x^{782} + 877969847x^{783} + 1164794368x^{784} - 974356055x^{785} + 568491982x^{786} - 666173634x^{787} + 216374717x^{788} + 287336741x^{789} - 626297273x^{790} + 280235727x^{791} + 794928409x^{792} - 1288826620x^{793} - 1462837434x^{794} + 764309302x^{795} - 1537228325x^{796} - 491888461x^{797} + 306109757x^{798} + 82625553x^{799} - 668834117x^{800} - 1330065277x^{801} + 1568388510x^{802} + 534370513x^{803} + 1289644579x^{804} - 851196877x^{805} + 658878663x^{806} + 1363638744x^{807} - 1104326076x^{808} - 1540272373x^{809} + 1427346271x^{810} + 627853421x^{811} + 321700806x^{812} - 1421389790x^{813} - 1526684639x^{814} - 1047579654x^{815} + 383558962x^{816} + 1047702554x^{817} + 996876910x^{818} + 1393611108x^{819} - 533316697x^{820} - 907999108x^{821} + 1160122605x^{822} - 1117279267x^{823} - 105269896x^{824} - 533007208x^{825} - 1141433486x^{826} - 1139556813x^{827} + 415635975x^{828} - 486754785x^{829} + 391085961x^{830} + 532717217x^{831} - 1331524499x^{832} - 872518970x^{833} + 581247328x^{834} + 198861864x^{835} - 737855463x^{836} + 1362575789x^{837} + 528264097x^{838} - 813914046x^{839} - 1313071118x^{840} + 1140223961x^{841} + 998815532x^{842} + 871413678x^{843} - 1129824463x^{844} + 1044283874x^{845} + 45609698x^{846} + 741376231x^{847} + 94130171x^{848} - 504335161x^{849} + 27326784x^{850} + 216556539x^{851} - 951579445x^{852} - 130144290x^{853} + 1585728778x^{854} - 461701217x^{855} - 1325311476x^{856} - 106596943x^{857} - 6934010x^{858} - 1530303840x^{859} + 69618066x^{860} + 740032625x^{861} - 1400682067x^{862} - 1028486938x^{863} - 941943416x^{864} + 475487956x^{865} + 429232426x^{866} + 1536479399x^{867} - 95603577x^{868} - 1566633211x^{869} - 630730908x^{870} + 660022196x^{871} - 292660680x^{872} - 851817844x^{873} + 733635072x^{874} - 522842123x^{875} + 217561432x^{876} + 566518066x^{877} - 190807942x^{878} + 212271283x^{879} + 1406339250x^{880} + 107989634x^{881} - 338781472x^{882} + 1529493258x^{883} - 673990935x^{884} + 526280491x^{885} - 1159521982x^{886} + 1238507920x^{887} + 1564871661x^{888} + 337118969x^{889} + 529507768x^{890} - 628116531x^{891} - 355461469x^{892} + 9187804x^{893} + 629386684x^{894} - 244837027x^{895} - 775333609x^{896} - 1009455991x^{897} + 88270703x^{898} + 1269955387x^{899} - 151052426x^{900} - 1019940839x^{901} - 656145859x^{902} - 241509698x^{903} + 1395520902x^{904} + 1185904595x^{905} + 121895789x^{906} - 1114138055x^{907} - 171273126x^{908} + 1507119213x^{909} - 624724462x^{910} - 828236988x^{911} - 1009134789x^{912} - 891215898x^{913} + 1302569287x^{914} - 1209584666x^{915} + 40169096x^{916} + 1562102460x^{917} + 1026104196x^{918} + 1498914104x^{919} + 504828898x^{920} + 318274395x^{921} + 1065019516x^{922} - 1499454920x^{923} + 63006213x^{924} - 1502889346x^{925} - 142725716x^{926} + 1384098939x^{927} - 1388052721x^{928} + 770380453x^{929} - 415209989x^{930} - 1390606167x^{931} - 982015130x^{932} - 365281954x^{933} - 820310458x^{934} + 492702754x^{935} + 649429281x^{936} - 334568605x^{937} + 304063246x^{938} - 1078802805x^{939} - 408234650x^{940} - 1114261442x^{941} - 1147258206x^{942} - 1415470175x^{943} - 1502460575x^{944} + 103274661x^{945} + 1022466975x^{946} + 1021022741x^{947} + 1083096761x^{948} - 38325410x^{949} - 126667003x^{950} + 1340488431x^{951} - 134836763x^{952} + 1268120707x^{953} - 925928411x^{954} + 1085003378x^{955} + 1197613017x^{956} - 24230524x^{957} + 332395339x^{958} - 1488300823x^{959} + 469948711x^{960} + 59872740x^{961} + 1215862452x^{962} + 212655357x^{963} + 858104209x^{964} - 982805242x^{965} + 201046882x^{966} + 297325109x^{967} - 178013892x^{968} + 769949458x^{969} - 420877304x^{970} + 1209969545x^{971} - 457109354x^{972} + 547848925x^{973} + 682704628x^{974} + 53809198x^{975} - 126845726x^{976} - 1445065686x^{977} + 1056472000x^{978} - 1594194548x^{979} - 568778895x^{980} - 841167027x^{981} - 1312610244x^{982} + 629829498x^{983} + 1466095103x^{984} - 1411741884x^{985} - 344853381x^{986} + 1134611247x^{987} - 1550407031x^{988} + 48178635x^{989} - 727698230x^{990} + 112633116x^{991} - 561060860x^{992} - 853750075x^{993} + 145200136x^{994} - 773121517x^{995} - 620682519x^{996} - 877092679x^{997} - 1485544080x^{998} + 1011944621x^{999} + 698585313x^{1000} + 1598484342x^{1001} - 424196957x^{1002} - 548988900x^{1003} - 1460049959x^{1004} + 172462311x^{1005} - 925703065x^{1006} + 406142696x^{1007} + 928299345x^{1008} + 1532076140x^{1009} - 829703473x^{1010} - 473572081x^{1011} + 1348599612x^{1012} + 1435006670x^{1013} - 189855049x^{1014} + 1230220650x^{1015} + 624616355x^{1016} + 1155670422x^{1017} - 433011935x^{1018} + 54098756x^{1019} - 522484321x^{1020} - 267490914x^{1021} + 763535180x^{1022} $"
      ],
      "text/plain": [
       "<polynomial.Polynomial at 0x11fe10640>"
      ]
     },
     "execution_count": 58,
     "metadata": {},
     "output_type": "execute_result"
    }
   ],
   "source": [
    "from polynomial import interpolate_poly\n",
    "# Fix the following so that v will contain the value of f at FieldElement(2)\n",
    "# Note that interpolate_poly may take up to a minute to run.\n",
    "# G是系数 a是值\n",
    "f=interpolate_poly(G[:-1],a)\n",
    "f\n",
    "f(2)\n",
    "# v = 'YOUR_CODE_HERE'"
   ]
  },
  {
   "cell_type": "markdown",
   "metadata": {},
   "source": [
    "Solution:"
   ]
  },
  {
   "cell_type": "code",
   "execution_count": 11,
   "metadata": {
    "jupyter": {
     "source_hidden": true
    }
   },
   "outputs": [
    {
     "name": "stderr",
     "output_type": "stream",
     "text": [
      "100%|██████████| 1023/1023 [00:06<00:00, 168.58it/s]\n"
     ]
    }
   ],
   "source": [
    "f = interpolate_poly(G[:-1], a)\n",
    "v = f(2)"
   ]
  },
  {
   "cell_type": "markdown",
   "metadata": {},
   "source": [
    "Run test:"
   ]
  },
  {
   "cell_type": "code",
   "execution_count": 57,
   "metadata": {},
   "outputs": [
    {
     "name": "stdout",
     "output_type": "stream",
     "text": [
      "Success!\n"
     ]
    }
   ],
   "source": [
    "assert v == FieldElement(1302089273)\n",
    "print('Success!')"
   ]
  },
  {
   "cell_type": "markdown",
   "metadata": {},
   "source": [
    "## Evaluating on a Larger Domain\n",
    "The trace, viewed as evaluations of a polynomial $f$ on $G$, can now be extended by evaluating $f$ over a larger domain, thereby creating a Reed-Solomon error correction code.\n",
    "\n",
    "### Cosets\n",
    "To that end, we must decide on a larger domain on which $f$ will be evaluated. \n",
    "We will work with a domain that is 8 times larger than $G$. <br>A natural choice for such a domain is to take some group $H$ of size 8192 (which exists because 8192 divides $|\\mathbb{F}^\\times|$), and shift it by the generator of $\\mathbb{F}^\\times$, thereby obtaining a [coset](https://en.wikipedia.org/wiki/Coset) of $H$.\n",
    "\n",
    "Create a list called `H` of the elements of $H$, and multiply each of them by the generator of $\\mathbb{F}^\\times$ to obtain a list called `eval_domain`. In other words, eval_domain = $\\{w\\cdot h^i | 0 \\leq i <8192  \\}$ for $h$ the generator of $H$ and $w$ the generator of $\\mathbb{F}^\\times$.\n",
    "\n",
    "Hint: You already know how to obtain $H$ - similarly to the way we got $G$ a few minutes ago.\n"
   ]
  },
  {
   "cell_type": "code",
   "execution_count": 70,
   "metadata": {},
   "outputs": [],
   "source": [
    "# Fix the following, make sure that the the element of h are powers of its generator in \n",
    "# order, that is - H[0] will be the unit, H[1] will be h (H's generator), H[2] will be H's\n",
    "# generator squared, etc.\n",
    "\n",
    "# 同理 和 构建G一样 构建H\n",
    "w=FieldElement.generator()\n",
    "h=w** ((3 * (2 ** 30))//8192)\n",
    "H = [h ** i for i in range(8192)]\n",
    "eval_domain = [w*x for x in H]"
   ]
  },
  {
   "cell_type": "markdown",
   "metadata": {},
   "source": [
    "Solution:"
   ]
  },
  {
   "cell_type": "code",
   "execution_count": 64,
   "metadata": {
    "jupyter": {
     "source_hidden": true
    }
   },
   "outputs": [],
   "source": [
    "w = FieldElement.generator()\n",
    "h = w ** ((2 ** 30 * 3) // 8192)\n",
    "H = [h ** i for i in range(8192)]\n",
    "eval_domain = [w * x for x in H]\n"
   ]
  },
  {
   "cell_type": "markdown",
   "metadata": {},
   "source": [
    "Run test:"
   ]
  },
  {
   "cell_type": "code",
   "execution_count": 71,
   "metadata": {
    "scrolled": true
   },
   "outputs": [
    {
     "name": "stdout",
     "output_type": "stream",
     "text": [
      "Success!\n"
     ]
    }
   ],
   "source": [
    "from hashlib import sha256\n",
    "assert len(set(eval_domain)) == len(eval_domain)\n",
    "w = FieldElement.generator()\n",
    "w_inv = w.inverse()\n",
    "assert '55fe9505f35b6d77660537f6541d441ec1bd919d03901210384c6aa1da2682ce' == sha256(str(H[1]).encode()).hexdigest(),\\\n",
    "    'H list is incorrect. H[1] should be h (i.e., the generator of H).'\n",
    "for i in range(8192):\n",
    "    assert ((w_inv * eval_domain[1]) ** i) * w == eval_domain[i]\n",
    "print('Success!')"
   ]
  },
  {
   "cell_type": "markdown",
   "metadata": {},
   "source": [
    "### Evaluate on a Coset\n",
    "Time to use `interpolate_poly` and `Polynomial.poly` to evaluate over the coset. Note that it is implemented fairely naively in our Python module, so interpolation may take up to a minute.<br>\n",
    "Indeed - interpolating and evaluating the trace polynomial is one of the most computationally-intensive steps in the STARK protocol, even when using more efficient methods (e.g. FFT)."
   ]
  },
  {
   "cell_type": "code",
   "execution_count": 72,
   "metadata": {},
   "outputs": [
    {
     "name": "stderr",
     "output_type": "stream",
     "text": [
      "100%|██████████| 1023/1023 [00:05<00:00, 171.78it/s]\n"
     ]
    }
   ],
   "source": [
    "# Fill f_eval with the evaluations of f on eval_domain.\n",
    "\n",
    "# 同理 构造f_eval\n",
    "f=interpolate_poly(G[:-1],a)\n",
    "f_eval = [f(d) for d in eval_domain]\n",
    "# f_eval = 'YOUR_CODE_HERE'"
   ]
  },
  {
   "cell_type": "markdown",
   "metadata": {},
   "source": [
    "Solution:"
   ]
  },
  {
   "cell_type": "code",
   "execution_count": 17,
   "metadata": {
    "jupyter": {
     "source_hidden": true
    }
   },
   "outputs": [
    {
     "name": "stderr",
     "output_type": "stream",
     "text": [
      "100%|██████████| 1023/1023 [00:05<00:00, 176.48it/s]\n"
     ]
    }
   ],
   "source": [
    "f = interpolate_poly(G[:-1], a)\n",
    "f_eval = [f(d) for d in eval_domain]"
   ]
  },
  {
   "cell_type": "markdown",
   "metadata": {},
   "source": [
    "Run test:"
   ]
  },
  {
   "cell_type": "code",
   "execution_count": 73,
   "metadata": {},
   "outputs": [
    {
     "name": "stdout",
     "output_type": "stream",
     "text": [
      "Success!\n"
     ]
    }
   ],
   "source": [
    "# Test against a precomputed hash.\n",
    "from hashlib import sha256\n",
    "from channel import serialize\n",
    "assert '1d357f674c27194715d1440f6a166e30855550cb8cb8efeb72827f6a1bf9b5bb' == sha256(serialize(f_eval).encode()).hexdigest()\n",
    "print('Success!')"
   ]
  },
  {
   "cell_type": "markdown",
   "metadata": {},
   "source": [
    "## Commitments\n",
    "We will use [Sha256](https://en.wikipedia.org/wiki/SHA-2)-based [Merkle Trees](https://en.wikipedia.org/wiki/Merkle_tree) as our commitment scheme.\n",
    "A simple implementation of it is available to you in the `MerkleTree` class.\n",
    "Run the next cell (for the sake of this tutorial, this also serves as a test for correctness of the entire computation so far):"
   ]
  },
  {
   "cell_type": "code",
   "execution_count": 74,
   "metadata": {},
   "outputs": [
    {
     "name": "stdout",
     "output_type": "stream",
     "text": [
      "Success!\n"
     ]
    }
   ],
   "source": [
    "from merkle import MerkleTree\n",
    "f_merkle = MerkleTree(f_eval)\n",
    "assert f_merkle.root == '6c266a104eeaceae93c14ad799ce595ec8c2764359d7ad1b4b7c57a4da52be04'\n",
    "print('Success!')"
   ]
  },
  {
   "cell_type": "markdown",
   "metadata": {},
   "source": [
    "## Channel\n",
    "Theoretically, a STARK proof system is a protocol for interaction between two parties - a prover and a verifier. In practice, we convert this interactive protocol into a non-interactive proof using the [Fiat-Shamir Heuristic](https://en.wikipedia.org/wiki/Fiat%E2%80%93Shamir_heuristic). In this tutorial you will use the `Channel` class, which implements this transformation. This channel replaces the verifier in the sense that the prover (which you are writing) will send data, and receive random numbers or random `FieldElement` instances.\n",
    "\n",
    "This simple piece of code instantiates a channel object, sends the root of your Merkle Tree to it. \n",
    "Later, the channel object can be called to provide random numbers or random field elements."
   ]
  },
  {
   "cell_type": "code",
   "execution_count": 81,
   "metadata": {},
   "outputs": [],
   "source": [
    "from channel import Channel\n",
    "channel = Channel()\n",
    "channel.send(f_merkle.root)\n",
    "\n",
    "\n",
    "\n"
   ]
  },
  {
   "cell_type": "code",
   "execution_count": 82,
   "metadata": {},
   "outputs": [
    {
     "data": {
      "text/plain": [
       "'b8339a0b5da22c74e0e63aa350c233ea79ad8335f1206a695d47462c7cd9635d'"
      ]
     },
     "execution_count": 82,
     "metadata": {},
     "output_type": "execute_result"
    }
   ],
   "source": [
    "channel.state"
   ]
  },
  {
   "cell_type": "code",
   "execution_count": 83,
   "metadata": {},
   "outputs": [
    {
     "data": {
      "text/plain": [
       "['send:6c266a104eeaceae93c14ad799ce595ec8c2764359d7ad1b4b7c57a4da52be04']"
      ]
     },
     "execution_count": 83,
     "metadata": {},
     "output_type": "execute_result"
    }
   ],
   "source": [
    "channel.proof"
   ]
  },
  {
   "cell_type": "markdown",
   "metadata": {},
   "source": [
    "Lastly - you can retrieve the proof-so-far (i.e., everything that was passed in the channel up until a certain point) by printing the member `Channel.proof`."
   ]
  },
  {
   "cell_type": "code",
   "execution_count": 84,
   "metadata": {},
   "outputs": [
    {
     "name": "stdout",
     "output_type": "stream",
     "text": [
      "['send:6c266a104eeaceae93c14ad799ce595ec8c2764359d7ad1b4b7c57a4da52be04']\n"
     ]
    }
   ],
   "source": [
    "print(channel.proof)"
   ]
  },
  {
   "cell_type": "code",
   "execution_count": null,
   "metadata": {},
   "outputs": [],
   "source": []
  }
 ],
 "metadata": {
  "kernelspec": {
   "display_name": "Python 3 (ipykernel)",
   "language": "python",
   "name": "python3"
  },
  "language_info": {
   "codemirror_mode": {
    "name": "ipython",
    "version": 3
   },
   "file_extension": ".py",
   "mimetype": "text/x-python",
   "name": "python",
   "nbconvert_exporter": "python",
   "pygments_lexer": "ipython3",
   "version": "3.9.17"
  }
 },
 "nbformat": 4,
 "nbformat_minor": 4
}
