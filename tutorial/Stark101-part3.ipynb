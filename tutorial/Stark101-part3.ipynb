{
 "cells": [
  {
   "cell_type": "markdown",
   "metadata": {},
   "source": [
    "*Copyright 2019 StarkWare Industries Ltd.<br> Licensed under the Apache License, Version 2.0 (the \"License\"). You may not use this file except in compliance with the License. You may obtain a copy of the License at https://www.starkware.co/open-source-license/ <br> Unless required by applicable law or agreed to in writing, software distributed under the License is distributed on an \"AS IS\" BASIS, WITHOUT WARRANTIES OR CONDITIONS OF ANY KIND, either express or implied. See the License for the specific language governing permissions and limitations under the License.*"
   ]
  },
  {
   "cell_type": "markdown",
   "metadata": {},
   "source": [
    "# Part 3: FRI Commitments"
   ]
  },
  {
   "cell_type": "markdown",
   "metadata": {
    "tags": []
   },
   "source": [
    "- [Video Lecture (youtube)](https://www.youtube.com/watch?v=gd1NbKUOJwA)\n",
    "- [Slides (PDF)](https://starkware.co/wp-content/uploads/2021/12/STARK101-Part3.pdf)\n",
    "\n",
    "### Load Previous Session\n",
    "Run the next cell to load the relevant variables. As usual - it will take a while to run."
   ]
  },
  {
   "cell_type": "code",
   "execution_count": 1,
   "metadata": {},
   "outputs": [
    {
     "name": "stderr",
     "output_type": "stream",
     "text": [
      "100%|██████████| 1023/1023 [00:05<00:00, 177.79it/s]\n"
     ]
    },
    {
     "name": "stdout",
     "output_type": "stream",
     "text": [
      "Success\n"
     ]
    }
   ],
   "source": [
    "from channel import Channel\n",
    "from field import FieldElement\n",
    "from merkle import MerkleTree\n",
    "from polynomial import interpolate_poly, Polynomial\n",
    "from tutorial_sessions import part1, part2\n",
    "\n",
    "cp, cp_eval, cp_merkle, channel, eval_domain = part2()\n",
    "print(\"Success\")"
   ]
  },
  {
   "cell_type": "code",
   "execution_count": 2,
   "metadata": {},
   "outputs": [
    {
     "name": "stderr",
     "output_type": "stream",
     "text": [
      "100%|██████████| 1023/1023 [00:05<00:00, 176.62it/s]\n"
     ]
    },
    {
     "name": "stdout",
     "output_type": "stream",
     "text": [
      "deg p0 = 1021\n",
      "deg p1 = 1021\n",
      "deg p2 = 1023\n"
     ]
    }
   ],
   "source": [
    "from field import FieldElement\n",
    "from polynomial import interpolate_poly, X\n",
    "from merkle import MerkleTree\n",
    "from channel import Channel\n",
    "\n",
    "\"\"\"\n",
    "==================================================================\n",
    "==============================Part.1==============================\n",
    "==================================================================\n",
    "\"\"\"\n",
    "\n",
    "# 1. 使用群元素构建数列\n",
    "a = [FieldElement(1), FieldElement(3141592)]\n",
    "while len(a) < 1023:\n",
    "    tmp = a[-1] * a[-1] + a[-2] * a[-2]\n",
    "    a.append(tmp)\n",
    "\n",
    "# 2. 使用生成元素构建数列\n",
    "g = FieldElement.generator() ** (3 * 2**30 / 1024)\n",
    "G = []\n",
    "for i in range(1024):\n",
    "    G.append(g**i)\n",
    "\n",
    "# 3. 构建多项式\n",
    "f = interpolate_poly(G[:-1], a)\n",
    "\n",
    "# 4. 在Coset上进行评估\n",
    "w = FieldElement.generator()\n",
    "h = w ** ((3 * (2**30)) // 8192)\n",
    "H = [h**i for i in range(8192)]\n",
    "eval_domain = [w * x for x in H]\n",
    "f_eval = [f(d) for d in eval_domain]\n",
    "\n",
    "# 5. 构建Merkle树，构建commitment\n",
    "f_merkle = MerkleTree(f_eval)\n",
    "\n",
    "# 6. 使用Channel发送根节点\n",
    "channel = Channel()\n",
    "channel.send(f_merkle.root)\n",
    "\n",
    "\n",
    "\"\"\"\n",
    "==================================================================\n",
    "==============================Part.2==============================\n",
    "==================================================================\n",
    "\"\"\"\n",
    "\n",
    "# 1. 第一个约束\n",
    "numer0 = f - 1\n",
    "denom0 = X - 1\n",
    "p0 = numer0 / denom0\n",
    "\n",
    "# 2. 第二个约束\n",
    "numer1 = f - 2338775057\n",
    "denom1 = X - g**1022\n",
    "p1 = numer1 / denom1\n",
    "\n",
    "# 3. 第三个约束\n",
    "# Construct a list `lst` of the linear terms (x-g**i):\n",
    "\n",
    "numer2 = f(g**2 * X) - f(g * X) ** 2 - f**2\n",
    "denom2 = (X**1024 - 1) / ((X - g**1021) * (X - g**1022) * (X - g**1023))\n",
    "p2 = numer2 / denom2\n",
    "\n",
    "print(\"deg p0 =\", p0.degree())\n",
    "print(\"deg p1 =\", p1.degree())\n",
    "print(\"deg p2 =\", p2.degree())\n",
    "\n",
    "\n",
    "# 4. 组合多项式\n",
    "def get_CP(channel):\n",
    "    alpha0 = channel.receive_random_field_element()\n",
    "    alpha1 = channel.receive_random_field_element()\n",
    "    alpha2 = channel.receive_random_field_element()\n",
    "    return alpha0 * p0 + alpha1 * p1 + alpha2 * p2\n",
    "\n",
    "\n",
    "# 5. 对组合多项式进行承诺\n",
    "def CP_eval(channel):\n",
    "    CP = get_CP(channel)\n",
    "    result = []\n",
    "    for d in eval_domain:\n",
    "        result.append(CP(d))\n",
    "    return result\n",
    "\n",
    "\n",
    "# 实际上就是用Merkle树对CP进行承诺\n",
    "# CP又是p0, p1, p2的组合多项式，把CP在陪集的定义域上进行赋值\n",
    "channel = Channel()\n",
    "CP_merkle = MerkleTree(CP_eval(channel))\n",
    "channel.send(CP_merkle.root)"
   ]
  },
  {
   "cell_type": "markdown",
   "metadata": {},
   "source": [
    "## FRI Folding\n",
    "\n",
    "Our goal in this part is to construct the FRI layers and commit on them. \n",
    "<br>To obtain each layer we need:\n",
    "1. To generate a domain for the layer (from the previous layer's domain).\n",
    "2. To generate a polynomial for the layer (from the previous layer's polynomial and domain).\n",
    "3. To evaluate said polynomial on said domain - **this is the next FRI layer**."
   ]
  },
  {
   "cell_type": "markdown",
   "metadata": {},
   "source": [
    "FRI Folding 是指通过逐层生成并处理多项式和域来构建 FRI 证明的过程。每一层的构建都基于前一层的域和多项式。具体来说，构建每一层需要完成以下三步：\n",
    "\n",
    "1.\t生成域（Domain）：\n",
    "\t\n",
    "•\t首先，从前一层的域中生成当前层的域。这通常涉及到对前一层域进行某种形式的折叠或缩减，使得新生成的域可以用于更低阶的多项式。\n",
    "\n",
    "•\t这个过程类似于将原有的验证问题“压缩”到一个更小、更简单的域上，从而简化接下来的验证工作。\n",
    "\n",
    "\n",
    "2.\t生成多项式（Polynomial）：\n",
    "\n",
    "•\t基于前一层的多项式和新的域，生成当前层的多项式。这个新多项式通常是通过对前一层多项式在新域上的评估或某种操作得到的。\n",
    "\n",
    "•\t这个步骤确保我们在每一层都能找到与前一层相关联的多项式，同时逐渐降低多项式的阶数，从而简化整个验证过程。\n",
    "\n",
    "\n",
    "3.\t在新域上评估多项式（Evaluate Polynomial）：\n",
    "\n",
    "•\t在新的域上评估生成的多项式，并将其结果作为新层的输出。这一层的输出将成为下一层的输入，逐层递归下去。\n",
    "\n",
    "•\t通过这种递归评估，最终可以验证原始问题是否满足要求。\n"
   ]
  },
  {
   "cell_type": "markdown",
   "metadata": {},
   "source": [
    "### Domain Generation\n",
    "\n",
    "The first FRI domain is simply the `eval_domain` that you already generated in Part 1, namely a coset of a group of order 8192. Each subsequent FRI domain is obtained by taking the first half of the previous FRI domain (dropping the second half), and squaring each of its elements.<br>\n",
    "\n",
    "Formally - we got `eval_domain` by taking:<br>\n",
    "$$w, w\\cdot h, w\\cdot h^2, ..., w\\cdot h^{8191}$$\n",
    "\n",
    "The next layer will therefore be:<br>\n",
    "$$w^2, (w\\cdot h)^2, (w\\cdot h^2)^2, ..., (w\\cdot h^{4095})^2$$"
   ]
  },
  {
   "cell_type": "markdown",
   "metadata": {},
   "source": [
    "Note that taking the squares of the second half of each elements in `eval_domain` yields exactly\n",
    "the same result as taking the squares of the first half. This is true for the next layers as well.\n",
    "\n",
    "对当前域的后半部分元素进行平方操作，与对前半部分元素进行平方操作会产生相同的结果。\n",
    "\n",
    "For example:"
   ]
  },
  {
   "cell_type": "code",
   "execution_count": 6,
   "metadata": {},
   "outputs": [
    {
     "name": "stdout",
     "output_type": "stream",
     "text": [
      "-373161870\n",
      "4096\n",
      "-373161870\n"
     ]
    }
   ],
   "source": [
    "# eval_domain这些在part1和2里面已经做完了\n",
    "\n",
    "print(eval_domain[100] ** 2)\n",
    "half_domain_size = len(eval_domain) // 2\n",
    "print(half_domain_size)\n",
    "print(eval_domain[half_domain_size + 100] ** 2)"
   ]
  },
  {
   "cell_type": "markdown",
   "metadata": {},
   "source": [
    "Similarly, the domain of the third layer will be:<br>\n",
    "$$w^4, (w\\cdot h)^4, (w\\cdot h^2)^4, ..., (w\\cdot h^{2047})^4$$\n",
    "\n",
    "And so on."
   ]
  },
  {
   "cell_type": "markdown",
   "metadata": {},
   "source": [
    "Write a function `next_fri_domain` that takes the previous domain as an argument, and outputs the next one."
   ]
  },
  {
   "cell_type": "code",
   "execution_count": 9,
   "metadata": {},
   "outputs": [],
   "source": [
    "def next_fri_domain(fri_domain):\n",
    "    tmp=[]\n",
    "    # 获取fri_domain的前一半的元素，再平方\n",
    "    for i in range(len(fri_domain)//2): \n",
    "        tmp.append(fri_domain[i]**2)\n",
    "    return tmp"
   ]
  },
  {
   "cell_type": "markdown",
   "metadata": {},
   "source": [
    "Solution:"
   ]
  },
  {
   "cell_type": "code",
   "execution_count": 4,
   "metadata": {
    "jupyter": {
     "source_hidden": true
    }
   },
   "outputs": [],
   "source": [
    "def next_fri_domain(fri_domain):\n",
    "    return [x ** 2 for x in fri_domain[:len(fri_domain) // 2]]"
   ]
  },
  {
   "cell_type": "markdown",
   "metadata": {},
   "source": [
    "Run test: "
   ]
  },
  {
   "cell_type": "code",
   "execution_count": 8,
   "metadata": {},
   "outputs": [
    {
     "name": "stdout",
     "output_type": "stream",
     "text": [
      "Success!\n"
     ]
    }
   ],
   "source": [
    "# Test against a precomputed hash.\n",
    "from hashlib import sha256\n",
    "next_domain = next_fri_domain(eval_domain)\n",
    "assert '5446c90d6ed23ea961513d4ae38fc6585f6614a3d392cb087e837754bfd32797' == sha256(','.join([str(i) for i in next_domain]).encode()).hexdigest()\n",
    "print('Success!')"
   ]
  },
  {
   "cell_type": "markdown",
   "metadata": {},
   "source": [
    "### FRI Folding Operator\n",
    "The first FRI polynomial is simply the composition polynomial, i.e., `cp`.<br>\n",
    "Each subsequent FRI polynomial is obtained by:\n",
    "1. Getting a random field element $\\beta$ (by calling `Channel.receive_random_field_element`).\n",
    "2. Multiplying the odd coefficients of the previous polynomial by $\\beta$.\n",
    "3. Summing together consecutive pairs (even-odd) of coefficients.\n",
    "\n",
    "Formally, let's say that the k-th polynomial is of degree $< m$ (for some $m$ which is a power of 2):\n",
    "\n",
    "$$p_{k}(x) := \\sum _{i=0} ^{m-1} c_i x^i$$\n",
    "\n",
    "\n",
    "Then the (k+1)-th polynomial, whose degree is $< \\frac m 2 $ will be:\n",
    "\n",
    "$$p_{k+1}(x) := \\sum _{i=0} ^{  m / 2 - 1 } (c_{2i} + \\beta \\cdot c_{2i + 1}) x^i$$"
   ]
  },
  {
   "cell_type": "markdown",
   "metadata": {},
   "source": [
    "这里理解一下就是在做逐渐的降低阶的过程：\n",
    "\n",
    "先选取一个随机数\n",
    "\n",
    "然后用这个随机数乘上一层多项式度奇数系数\n",
    "\n",
    "再加上偶数系数，就成为了新的各个项的系数\n",
    "\n",
    "这样x的项变少了一半 实现了阶的降低\n",
    "\n"
   ]
  },
  {
   "cell_type": "markdown",
   "metadata": {},
   "source": [
    "Write a function `next_fri_polynomial` that takes as arguments a polynomial and a field element (the one we referred to as $\\beta$), and returns the \"folded\" next polynomial.\n",
    "\n",
    "Note that:\n",
    "1. `Polynomial.poly` contains a list of a polynomial's coefficients, the free term first, and the highest degree last, so `p.poly[i] == u` if the coefficient of $x^i$ is $u$.*\n",
    "2. `Polynomial`'s default constructor takes the list of coefficients as argument. So a polynomial can be instantiated from a list of coefficients `l` by calling `Polynomial(l)`.\n"
   ]
  },
  {
   "cell_type": "code",
   "execution_count": 25,
   "metadata": {},
   "outputs": [],
   "source": [
    "def next_fri_polynomial(poly, beta):\n",
    "    # 这里取出来了两个系数列表，一个是奇数项，一个是偶数项\n",
    "    odd_coefficients = poly.poly[1::2] # No need to fix this line.\n",
    "    even_coefficients = poly.poly[::2] # No need to fix this line either.\n",
    "    # 系数列表减半了，所以多项式的阶也就减半了，实现了多项式的降阶\n",
    "    # 然后在这里构造了新的多项式\n",
    "    odd = beta * Polynomial(odd_coefficients)\n",
    "    even = Polynomial(even_coefficients)\n",
    "    return odd+even"
   ]
  },
  {
   "cell_type": "markdown",
   "metadata": {},
   "source": [
    "Solution:"
   ]
  },
  {
   "cell_type": "code",
   "execution_count": 24,
   "metadata": {
    "jupyter": {
     "source_hidden": true
    }
   },
   "outputs": [],
   "source": [
    "def next_fri_polynomial(poly,  beta):\n",
    "    odd_coefficients = poly.poly[1::2]\n",
    "    even_coefficients = poly.poly[::2]\n",
    "    odd = beta * Polynomial(odd_coefficients)\n",
    "    even = Polynomial(even_coefficients)\n",
    "    return odd + even"
   ]
  },
  {
   "cell_type": "markdown",
   "metadata": {},
   "source": [
    "Run test:"
   ]
  },
  {
   "cell_type": "code",
   "execution_count": 15,
   "metadata": {},
   "outputs": [
    {
     "name": "stdout",
     "output_type": "stream",
     "text": [
      "511\n",
      "Success!\n"
     ]
    }
   ],
   "source": [
    "next_p = next_fri_polynomial(cp, FieldElement(987654321))\n",
    "assert '6bff4c35e1aa9693f9ceb1599b6a484d7636612be65990e726e52a32452c2154' == sha256(','.join([str(i) for i in next_p.poly]).encode()).hexdigest()\n",
    "print('Success!')"
   ]
  },
  {
   "cell_type": "markdown",
   "metadata": {},
   "source": [
    "### Putting it Together to Get the Next FRI Layer\n",
    "\n",
    "Write a function `next_fri_layer` that takes a polynomial, a domain, and a field element (again - $\\beta$), and returns the next polynomial, the next domain, and the evaluation of this next polynomial on this next domain."
   ]
  },
  {
   "cell_type": "code",
   "execution_count": 18,
   "metadata": {},
   "outputs": [],
   "source": [
    "def next_fri_layer(poly, domain, beta):\n",
    "    next_poly = next_fri_polynomial(poly, beta) \n",
    "    next_domain = next_fri_domain(domain)\n",
    "    next_layer = []\n",
    "    for x in next_domain:\n",
    "        next_layer.append(next_poly(x))\n",
    "    return next_poly, next_domain, next_layer"
   ]
  },
  {
   "cell_type": "markdown",
   "metadata": {},
   "source": [
    "Solution:"
   ]
  },
  {
   "cell_type": "code",
   "execution_count": 17,
   "metadata": {
    "jupyter": {
     "source_hidden": true
    }
   },
   "outputs": [],
   "source": [
    "def next_fri_layer(poly, domain, beta):\n",
    "    next_poly = next_fri_polynomial(poly, beta)\n",
    "    next_domain = next_fri_domain(domain)\n",
    "    next_layer = [next_poly(x) for x in next_domain]\n",
    "    return next_poly, next_domain, next_layer"
   ]
  },
  {
   "cell_type": "markdown",
   "metadata": {},
   "source": [
    "Run test:"
   ]
  },
  {
   "cell_type": "code",
   "execution_count": 26,
   "metadata": {},
   "outputs": [
    {
     "name": "stdout",
     "output_type": "stream",
     "text": [
      "Success!\n"
     ]
    }
   ],
   "source": [
    "test_poly = Polynomial([FieldElement(2), FieldElement(3), FieldElement(0), FieldElement(1)])\n",
    "test_domain = [FieldElement(3), FieldElement(5)]\n",
    "beta = FieldElement(7)\n",
    "next_p, next_d, next_l = next_fri_layer(test_poly, test_domain, beta)\n",
    "assert next_p.poly == [FieldElement(23), FieldElement(7)]\n",
    "assert next_d == [FieldElement(9)]\n",
    "assert next_l == [FieldElement(86)]\n",
    "print('Success!')"
   ]
  },
  {
   "cell_type": "markdown",
   "metadata": {},
   "source": [
    "## Generating FRI Commitments\n",
    "\n",
    "We have now developed the tools to write the `FriCommit` method, that contains the main FRI commitment loop.<br>\n",
    "\n",
    "It takes the following 5 arguments:\n",
    "1. The composition polynomial, that is also the first FRI polynomial, that is - `cp`.\n",
    "2. The coset of order 8192 that is also the first FRI domain, that is - `eval_domain`.\n",
    "3. The evaluation of the former over the latter, which is also the first FRI layer , that is - `cp_eval`.\n",
    "4. The first Merkle tree (we will have one for each FRI layer) constructed from these evaluations, that is - `cp_merkle`.\n",
    "5. A channel object, that is `channel`.\n",
    "\n",
    "The method accordingly returns 4 lists:\n",
    "1. The FRI polynomials.\n",
    "2. The FRI domains.\n",
    "3. The FRI layers.\n",
    "4. The FRI Merkle trees.\n",
    "\n",
    "The method contains a loop, in each iteration of which we extend these four lists, using the last element in each.\n",
    "The iteration should stop once the last FRI polynomial is of degree 0, that is - when the last FRI polynomial is just a constant. It should then send over the channel this constant (i.e. - the polynomial's free term).\n",
    "The `Channel` class only supports sending strings, so make sure you convert anything you wish to send over the channel to a string before sending."
   ]
  },
  {
   "cell_type": "code",
   "execution_count": 27,
   "metadata": {},
   "outputs": [],
   "source": [
    "# Fix this according to the instructions (lines with no specific comments are okay).\n",
    "def FriCommit(cp, domain, cp_eval, cp_merkle, channel):\n",
    "    fri_polys = [cp]\n",
    "    fri_domains = [domain]\n",
    "    fri_layers = [cp_eval]\n",
    "    fri_merkles = [cp_merkle]\n",
    "    while fri_polys[-1].degree()>0: # Replace this with the correct halting condition.\n",
    "        beta = channel.receive_random_field_element() # Change to obtain a random element from the channel.\n",
    "        next_poly, next_domain, next_layer = next_fri_layer(fri_polys[-1],fri_domains[-1],beta) # Fix to obtain the next FRI polynomial, domain, and layer.\n",
    "        \n",
    "        fri_polys.append(next_poly)\n",
    "        fri_domains.append(next_domain)\n",
    "        fri_layers.append(next_layer)\n",
    "        \n",
    "        fri_merkle=MerkleTree(next_layer)\n",
    "        channel.send(fri_merkle.root) # Fix to send the correct commitment.\n",
    "        fri_merkles.append(fri_merkle) # Fix to construct the correct Merkle tree.\n",
    "    channel.send(str(fri_polys[-1].poly[0])) # Fix to send the last layer's free term.\n",
    "    return fri_polys, fri_domains, fri_layers, fri_merkles"
   ]
  },
  {
   "cell_type": "markdown",
   "metadata": {},
   "source": [
    "Solution:"
   ]
  },
  {
   "cell_type": "code",
   "execution_count": 28,
   "metadata": {
    "jupyter": {
     "source_hidden": true
    }
   },
   "outputs": [],
   "source": [
    "def FriCommit(cp, domain, cp_eval, cp_merkle, channel):    \n",
    "    fri_polys = [cp]\n",
    "    fri_domains = [domain]\n",
    "    fri_layers = [cp_eval]\n",
    "    fri_merkles = [cp_merkle]\n",
    "    while fri_polys[-1].degree() > 0:\n",
    "        beta = channel.receive_random_field_element()\n",
    "        next_poly, next_domain, next_layer = next_fri_layer(fri_polys[-1], fri_domains[-1], beta)\n",
    "        fri_polys.append(next_poly)\n",
    "        fri_domains.append(next_domain)\n",
    "        fri_layers.append(next_layer)\n",
    "        fri_merkles.append(MerkleTree(next_layer))\n",
    "        channel.send(fri_merkles[-1].root)   \n",
    "    channel.send(str(fri_polys[-1].poly[0]))\n",
    "    return fri_polys, fri_domains, fri_layers, fri_merkles"
   ]
  },
  {
   "cell_type": "markdown",
   "metadata": {},
   "source": [
    "Run test:"
   ]
  },
  {
   "cell_type": "code",
   "execution_count": 29,
   "metadata": {},
   "outputs": [
    {
     "name": "stdout",
     "output_type": "stream",
     "text": [
      "Success!\n"
     ]
    }
   ],
   "source": [
    "test_channel = Channel()\n",
    "fri_polys, fri_domains, fri_layers, fri_merkles = FriCommit(cp, eval_domain, cp_eval, cp_merkle, test_channel)\n",
    "assert len(fri_layers) == 11, f'Expected number of FRI layers is 11, whereas it is actually {len(fri_layers)}.'\n",
    "assert len(fri_layers[-1]) == 8, f'Expected last layer to contain exactly 8 elements, it contains {len(fri_layers[-1])}.'\n",
    "assert all([x == FieldElement(-1138734538) for x in fri_layers[-1]]), f'Expected last layer to be constant.'\n",
    "assert fri_polys[-1].degree() == 0, 'Expacted last polynomial to be constant (degree 0).'\n",
    "assert fri_merkles[-1].root == '1c033312a4df82248bda518b319479c22ea87bd6e15a150db400eeff653ee2ee', 'Last layer Merkle root is wrong.'\n",
    "assert test_channel.state == '61452c72d8f4279b86fa49e9fb0fdef0246b396a4230a2bfb24e2d5d6bf79c2e', 'The channel state is not as expected.'\n",
    "print('Success!')"
   ]
  },
  {
   "cell_type": "markdown",
   "metadata": {},
   "source": [
    "Run the following cell to execute the function with your channel object and print the proof so far:"
   ]
  },
  {
   "cell_type": "code",
   "execution_count": 15,
   "metadata": {},
   "outputs": [
    {
     "name": "stdout",
     "output_type": "stream",
     "text": [
      "['send:6c266a104eeaceae93c14ad799ce595ec8c2764359d7ad1b4b7c57a4da52be04', 'receive_random_field_element:2948900820', 'receive_random_field_element:1859037345', 'receive_random_field_element:2654806830', 'send:61f7d8283e244d391a483c420776e351fcfdbce525a698461a8307a1345b5652', 'receive_random_field_element:394024765', 'send:9431516ee735a498c4aec3da30112e417b03e55e5be939ff44ca8a0a62475b15', 'receive_random_field_element:1705983878', 'send:584b4b88a7f296efa0309d8e6faef13573b1ee5dfcb02ed8be5d853172f3fc69', 'receive_random_field_element:665918954', 'send:2debb983bb6473a5d4e9046944fb7ef66ef814c64f58ca5d8ebc2a15ed61ca4a', 'receive_random_field_element:3182659911', 'send:5da75aa9d9a9a564d7f19e431cbbb91eff030c353f3825dc5352674d1b7813f9', 'receive_random_field_element:2692084106', 'send:8ca6b618f3d758e7a99c4988e3a30e5c443f6f4ed79c64b698b031cca67ee4c2', 'receive_random_field_element:2453626065', 'send:db00ee380f0b1a9c2aa37efe2eabca468a83370046cf824eea9409e536256996', 'receive_random_field_element:1002265597', 'send:a6d9f31455568dbaa05c3c4dd8d4aad4ac217013a4b9f0c685457ce5394cea6c', 'receive_random_field_element:1722272171', 'send:709c8ae9501aa83f098698dfd20c5bb541286ffbaebafde9b296b22c9d67f36e', 'receive_random_field_element:13281110', 'send:69364a77950e2b5c02e6c8093957b42ad922bf894fc16461ecd9936b83ef4332', 'receive_random_field_element:1881985476', 'send:b0eab5d7c37841c712b85462b56c8da8d0042f38907d92079a810b2565714d3e', 'send:-203564369']\n"
     ]
    }
   ],
   "source": [
    "fri_polys, fri_domains, fri_layers, fri_merkles = FriCommit(cp, eval_domain, cp_eval, cp_merkle, channel)\n",
    "print(channel.proof) "
   ]
  }
 ],
 "metadata": {
  "kernelspec": {
   "display_name": "Python 3 (ipykernel)",
   "language": "python",
   "name": "python3"
  },
  "language_info": {
   "codemirror_mode": {
    "name": "ipython",
    "version": 3
   },
   "file_extension": ".py",
   "mimetype": "text/x-python",
   "name": "python",
   "nbconvert_exporter": "python",
   "pygments_lexer": "ipython3",
   "version": "3.9.17"
  }
 },
 "nbformat": 4,
 "nbformat_minor": 4
}
